{
 "cells": [
  {
   "cell_type": "markdown",
   "metadata": {},
   "source": [
    "# Tuning of curve paramaters"
   ]
  },
  {
   "cell_type": "code",
   "execution_count": 1,
   "metadata": {},
   "outputs": [
    {
     "data": {
      "application/vnd.jupyter.widget-view+json": {
       "model_id": "51cbcf7de78b417cafc6f3568fc578bf",
       "version_major": 2,
       "version_minor": 0
      },
      "text/plain": [
       "Accordion(children=(VBox(children=(FloatSlider(value=3.0, description='a', max=90.0, readout_format='.3g', ste…"
      ]
     },
     "metadata": {},
     "output_type": "display_data"
    },
    {
     "data": {
      "application/vnd.jupyter.widget-view+json": {
       "model_id": "ef41997652644593822cacfa3715da64",
       "version_major": 2,
       "version_minor": 0
      },
      "text/plain": [
       "Button(button_style='success', description='Save to config.py', style=ButtonStyle())"
      ]
     },
     "metadata": {},
     "output_type": "display_data"
    }
   ],
   "source": [
    "import numpy as np\n",
    "import matplotlib.pyplot as plt\n",
    "import ipywidgets as widgets\n",
    "from ipywidgets import VBox, Accordion, Button, Output\n",
    "import pprint\n",
    "import importlib\n",
    "import config\n",
    "import ast\n",
    "\n",
    "importlib.reload(config)\n",
    "\n",
    "MIN_COST = 0\n",
    "MAX_COST = 1\n",
    "\n",
    "# --- Generalized Cauchy membership function ---\n",
    "def generalized_cauchy(x, a, b, c):\n",
    "    y = 1.0 / (1.0 + np.abs((x - c) / (a + 1e-9))**(2*b))\n",
    "    return MIN_COST + (MAX_COST - MIN_COST) * y\n",
    "\n",
    "\n",
    "# --- Slider helper ---\n",
    "def make_sliders(layer_name):\n",
    "    params = config.TRANSFORM_PARAMS[layer_name]\n",
    "    sliders = {}\n",
    "    for k, (lo, hi) in config.PARAM_RANGES.items():\n",
    "        sliders[k] = widgets.FloatSlider(\n",
    "            value=params.get(k, (lo+hi)/2),\n",
    "            min=lo, max=hi, step=(hi-lo)/200,\n",
    "            description=k, readout_format=\".3g\", continuous_update=True\n",
    "        )\n",
    "    return sliders\n",
    "\n",
    "# --- Draw curve ---\n",
    "def draw_curve(ax, x, params):\n",
    "    y = generalized_cauchy(x, params['a'], params['b'], params['c'])\n",
    "    ax.plot(x, y)\n",
    "    ax.set_ylim(0, MAX_COST*1.1)\n",
    "    ax.grid(True)\n",
    "    ax.set_xlabel(\"x\")\n",
    "    ax.set_ylabel(\"cost\")\n",
    "\n",
    "# --- Build UI ---\n",
    "layers_ui = {}\n",
    "x_range = np.linspace(0, 180, 500)\n",
    "\n",
    "for layer_name in config.TRANSFORM_PARAMS.keys():\n",
    "    sliders = make_sliders(layer_name)\n",
    "    out = Output()\n",
    "    \n",
    "    def update_plot(change=None, layer=layer_name, out_box=out, sliders=sliders):\n",
    "        params = {k: s.value for k,s in sliders.items()}\n",
    "        with out_box:\n",
    "            out_box.clear_output(wait=True)\n",
    "            fig, ax = plt.subplots(1,1,figsize=(5,3))\n",
    "            draw_curve(ax, x_range, params)\n",
    "            ax.set_title(layer)\n",
    "            plt.show()\n",
    "    \n",
    "    for s in sliders.values():\n",
    "        s.observe(update_plot, names='value')\n",
    "    \n",
    "    update_plot()  # initial plot\n",
    "    \n",
    "    layers_ui[layer_name] = {\"sliders\": sliders, \"out\": out}\n",
    "    vbox = VBox(list(sliders.values()) + [out])\n",
    "    layers_ui[layer_name][\"vbox\"] = vbox\n",
    "\n",
    "accordion = Accordion(children=[layers_ui[name][\"vbox\"] for name in layers_ui])\n",
    "for i, name in enumerate(layers_ui):\n",
    "    accordion.set_title(i, name)\n",
    "display(accordion)\n",
    "\n",
    "# --- Save button ---\n",
    "def replace_assignment_in_file(pyfile, varname, new_py_value_str):\n",
    "    with open(pyfile,\"r\") as f:\n",
    "        src = f.read()\n",
    "    tree = ast.parse(src)\n",
    "    target_node = None\n",
    "    for node in tree.body:\n",
    "        if isinstance(node, ast.Assign):\n",
    "            for t in node.targets:\n",
    "                if isinstance(t, ast.Name) and t.id == varname:\n",
    "                    target_node = node\n",
    "    if target_node is None:\n",
    "        new_src = src.rstrip() + f\"\\n\\n{varname} = {new_py_value_str}\\n\"\n",
    "    else:\n",
    "        start = target_node.lineno-1\n",
    "        end = getattr(target_node,\"end_lineno\", target_node.lineno)\n",
    "        lines = src.splitlines(True)\n",
    "        lines[start:end] = [f\"{varname} = {new_py_value_str}\\n\"]\n",
    "        new_src = \"\".join(lines)\n",
    "    # backup\n",
    "    with open(pyfile+\".bak\",\"w\") as f:\n",
    "        f.write(src)\n",
    "    with open(pyfile,\"w\") as f:\n",
    "        f.write(new_src)\n",
    "\n",
    "\n",
    "def on_save(_):\n",
    "    new_params = {layer:{k:s.value for k,s in layers_ui[layer][\"sliders\"].items()} for layer in layers_ui}\n",
    "    replace_assignment_in_file(\"config.py\", \"TRANSFORM_PARAMS\", pprint.pformat(new_params, indent=4))\n",
    "    print(\"✅ Saved to config.py (backup at config.py.bak)\")\n",
    "\n",
    "save_btn = Button(description=\"Save to config.py\", button_style=\"success\")\n",
    "save_btn.on_click(on_save)\n",
    "display(save_btn)\n"
   ]
  }
 ],
 "metadata": {
  "kernelspec": {
   "display_name": "venv",
   "language": "python",
   "name": "python3"
  },
  "language_info": {
   "codemirror_mode": {
    "name": "ipython",
    "version": 3
   },
   "file_extension": ".py",
   "mimetype": "text/x-python",
   "name": "python",
   "nbconvert_exporter": "python",
   "pygments_lexer": "ipython3",
   "version": "3.11.13"
  }
 },
 "nbformat": 4,
 "nbformat_minor": 2
}
